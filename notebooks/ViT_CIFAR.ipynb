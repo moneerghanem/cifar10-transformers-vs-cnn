{
 "nbformat": 4,
 "nbformat_minor": 0,
 "metadata": {
  "colab": {
   "provenance": [],
   "gpuType": "A100"
  },
  "kernelspec": {
   "name": "python3",
   "display_name": "Python 3"
  },
  "language_info": {
   "name": "python"
  },
  "accelerator": "GPU"
 },
 "cells": [
  {
   "cell_type": "markdown",
   "source": [
    "## 📝 Project Overview\n",
    "\n",
    "In this project, I implement and train a **Vision Transformer (ViT)** from scratch for CIFAR-10 image classification using PyTorch.\n",
    "CIFAR-10 consists of 60 000 RGB images (32×32) belonging to 10 object classes.\n",
    "\n",
    "I designed and trained the model to explore how transformer-based architectures perform on small-scale vision tasks compared to conventional CNNs. The notebook covers data preparation, model definition, training, evaluation, and visualization of results.\n"
   ],
   "metadata": {
    "id": "-xyKRYBh3Kqo"
   }
  },
  {
   "cell_type": "code",
   "metadata": {
    "id": "0Bv4zxelPXUq",
    "ExecuteTime": {
     "end_time": "2025-09-22T15:06:03.220959Z",
     "start_time": "2025-09-22T15:05:59.637424Z"
    }
   },
   "source": [
    "# Import libraries for training\n",
    "\n",
    "import torch\n",
    "import torch.nn as nn\n",
    "import torchvision\n",
    "import torchvision.transforms as transforms\n",
    "from einops.layers.torch import Rearrange\n",
    "from einops import rearrange\n",
    "\n",
    "\n",
    "from torch.utils.data import DataLoader\n"
   ],
   "outputs": [],
   "execution_count": 1
  },
  {
   "metadata": {},
   "cell_type": "markdown",
   "source": [
    "## 🧰 Data Preparation\n",
    "\n",
    "For this project, I use the standard CIFAR-10 training and test splits.\n",
    "Before feeding the images into the model, I apply several preprocessing steps:\n",
    "\n",
    "- **Augmentation** (random crops, horizontal flips, AutoAugment) to increase data diversity.\n",
    "- **Normalization** to standardize pixel intensities and stabilize training.\n",
    "- **Mini-batch loading** using PyTorch `DataLoader` for efficient iteration.\n",
    "\n",
    "These steps help improve the model’s generalization and convergence during training.\n"
   ]
  },
  {
   "cell_type": "code",
   "source": [
    "# Define train/test dataloaders with transforms (augmentation + normalization)\n",
    "\n",
    "def get_dataloaders(batch_size=256):\n",
    "    normalize = transforms.Normalize(\n",
    "    mean=[0.4914, 0.4822, 0.4465],\n",
    "    std =[0.2470, 0.2435, 0.2616]\n",
    "    )\n",
    "\n",
    "    transform_train = transforms.Compose([\n",
    "        transforms.RandomCrop(32, padding=4),\n",
    "        transforms.RandomHorizontalFlip(),\n",
    "        transforms.AutoAugment(policy=transforms.AutoAugmentPolicy.CIFAR10),\n",
    "        transforms.ToTensor(),\n",
    "        normalize,\n",
    "    ])\n",
    "    transform_test = transforms.Compose([\n",
    "        transforms.ToTensor(),\n",
    "        normalize,\n",
    "    ])\n",
    "\n",
    "    full_train = torchvision.datasets.CIFAR10(root='./data', train=True, download=True, transform=transform_train)\n",
    "    full_test = torchvision.datasets.CIFAR10(root='./data', train=False, download=True, transform=transform_test)\n",
    "\n",
    "\n",
    "    # Took the full size sets\n",
    "    trainloader = DataLoader(full_train, batch_size=batch_size, shuffle=True, num_workers=4, pin_memory=True, prefetch_factor=2)\n",
    "    testloader = DataLoader(full_test, batch_size=64, shuffle=False, num_workers=4, pin_memory=True, prefetch_factor=2)\n",
    "\n",
    "    return trainloader, testloader"
   ],
   "metadata": {
    "id": "48lDZ7ADRHpl"
   },
   "execution_count": 2,
   "outputs": []
  },
  {
   "cell_type": "code",
   "source": [
    "\n",
    "class PatchEmbedding(nn.Module):\n",
    "    \"\"\"\n",
    "    Patch Embedding for Vision Transformers.\n",
    "    Input:\n",
    "        x: A 4D tensor of shape (B, C, H, W), where B = batch size, C = channels,\n",
    "           H = height of image, W = width of image.\n",
    "    Output:\n",
    "        A 3D tensor of shape (B, N, emb_size), where N = number of patches (H*W / patch_size^2).\n",
    "    \"\"\"\n",
    "\n",
    "    def __init__(self, in_channels = 3, image_size = 32, patch_size = 8, emb_size = 128):\n",
    "        super().__init__()\n",
    "\n",
    "        'assuming square image'\n",
    "        assert image_size % patch_size == 0, 'Image dimensions must be divisible by the patch size.'\n",
    "\n",
    "        patch_dim = in_channels * patch_size * patch_size\n",
    "        self.projection = nn.Sequential(\n",
    "            # Rearrange image into a patch sequence\n",
    "            Rearrange('b c (h p1) (w p2) -> b (h w) (p1 p2 c)', p1=patch_size, p2=patch_size),\n",
    "            # Apply a linear layer to project patch to `emb_size`\n",
    "            nn.Linear(patch_dim, emb_size)\n",
    "        )\n",
    "\n",
    "    def forward(self, x) :\n",
    "        return self.projection(x)\n"
   ],
   "metadata": {
    "id": "j74YFHAURgZq"
   },
   "execution_count": 3,
   "outputs": []
  },
  {
   "metadata": {},
   "cell_type": "markdown",
   "source": [
    "## 🏗 Vision Transformer Design\n",
    "\n",
    "I implement the Vision Transformer architecture from the ground up, adapted for small CIFAR-10 images.\n",
    "\n",
    "The architecture includes:\n",
    "- A **self-attention** mechanism to model patch-to-patch dependencies.\n",
    "- A **feedforward MLP** applied after attention for feature transformation.\n",
    "- **Transformer blocks** with residual connections and layer normalization.\n",
    "- A **classification head** on top of a special class token.\n",
    "\n",
    "This modular structure follows the core ViT idea: treat image patches as sequence tokens and apply transformer layers for classification.\n"
   ]
  },
  {
   "metadata": {
    "id": "ZnjwTmtAcQ76"
   },
   "cell_type": "code",
   "outputs": [],
   "execution_count": 4,
   "source": [
    "class Attention(nn.Module):\n",
    "    def __init__(self, dim, heads=2, dim_head=64, dropout=0.):\n",
    "        super().__init__()\n",
    "        inner_dim = dim_head * heads\n",
    "        project_out = not (heads == 1 and dim_head == dim)\n",
    "        assert dim == heads * dim_head, \"dim must be divisible by num_heads\"\n",
    "\n",
    "        self.heads = heads\n",
    "        self.scale = dim_head ** -0.5\n",
    "        self.norm = nn.LayerNorm(dim)\n",
    "        self.attend = nn.Softmax(dim=-1)\n",
    "        self.dropout = nn.Dropout(dropout)\n",
    "        self.to_qkv = nn.Linear(dim, inner_dim * 3, bias=True)\n",
    "        self.to_out = nn.Sequential(nn.Linear(inner_dim, dim), nn.Dropout(dropout)) if project_out else nn.Identity()\n",
    "\n",
    "    def forward(self, x):\n",
    "        x = self.norm(x)\n",
    "\n",
    "        qkv = self.to_qkv(x).chunk(3,dim = -1)\n",
    "        q, k, v = map(lambda t: rearrange(t, 'b n (h d) -> b h n d', h=self.heads), qkv)\n",
    "\n",
    "        dots = torch.matmul(q, k.transpose(-1, -2)) * self.scale\n",
    "        attend = self.attend(dots)\n",
    "        out = torch.matmul(attend, v)\n",
    "        out = rearrange(out, 'b h n d -> b n (h d)')\n",
    "        return self.to_out(out)\n",
    "\n"
   ]
  },
  {
   "metadata": {
    "id": "BIU0Mu1rcQ76"
   },
   "cell_type": "code",
   "outputs": [],
   "execution_count": 5,
   "source": [
    "class FeedForward(nn.Module):\n",
    "    def __init__(self, dim, hidden_dim, dropout = 0.):\n",
    "        super().__init__()\n",
    "        self.net = nn.Sequential(\n",
    "            nn.LayerNorm(dim),\n",
    "            nn.Linear(dim, hidden_dim),\n",
    "            nn.GELU(),\n",
    "            nn.Dropout(dropout),\n",
    "            nn.Linear(hidden_dim, dim),\n",
    "            nn.Dropout(dropout)\n",
    "        )\n",
    "    def forward(self, x):\n",
    "        return self.net(x)\n"
   ]
  },
  {
   "metadata": {
    "id": "oWEnttxFcQ76"
   },
   "cell_type": "code",
   "outputs": [],
   "execution_count": 6,
   "source": [
    "class Transformer(nn.Module):\n",
    "    def __init__(self, dim, depth, heads, dim_head, mlp_dim, dropout = 0.):\n",
    "        super().__init__()\n",
    "        self.layers = nn.ModuleList([])\n",
    "        for _ in range(depth):\n",
    "            self.layers.append(nn.ModuleList([\n",
    "            Attention(dim, heads, dim_head, dropout),\n",
    "            FeedForward(dim, mlp_dim, dropout)]\n",
    "            ))\n",
    "\n",
    "    def forward(self, x):\n",
    "        for attn, ff in self.layers:\n",
    "            x = attn(x) + x\n",
    "            x = ff(x) + x\n",
    "        return x\n"
   ]
  },
  {
   "metadata": {
    "id": "29Fe_8x_cQ76"
   },
   "cell_type": "code",
   "outputs": [],
   "execution_count": 7,
   "source": [
    "# Combining blocks to create the ViT model\n",
    "\n",
    "class MyViT(nn.Module):\n",
    "    def __init__(self, *, image_size, patch_size, num_classes, dim, depth, heads, mlp_dim, pool='cls', channels=3, dim_head=64, dropout=0., emb_dropout=0.):\n",
    "        super().__init__()\n",
    "        assert image_size % patch_size == 0, 'Image dimensions must be divisible by the patch size.'\n",
    "        num_patches = (image_size // patch_size) ** 2\n",
    "        assert pool in {'cls', 'mean'}, 'pool type must be either cls (class token) or mean (mean pooling)'\n",
    "        self.to_patch_embedding = PatchEmbedding(image_size=image_size, patch_size=patch_size, in_channels=channels, emb_size=dim)\n",
    "        self.pos_embedding = nn.Parameter(torch.randn(1, num_patches + 1, dim))\n",
    "        self.cls_token = nn.Parameter(torch.randn(1, 1, dim))\n",
    "        self.dropout = nn.Dropout(emb_dropout)\n",
    "\n",
    "        self.transformer = Transformer(dim, depth, heads, dim_head, mlp_dim, dropout)\n",
    "\n",
    "        self.pool = pool\n",
    "\n",
    "        self.out = nn.Sequential(\n",
    "            nn.LayerNorm(dim),\n",
    "            nn.Linear(dim, num_classes)\n",
    "        )\n",
    "    def forward(self, img):\n",
    "        x = self.to_patch_embedding(img)\n",
    "        b, n, _ = x.shape\n",
    "        cls_tokens = self.cls_token.repeat(b, 1, 1)\n",
    "        x = torch.cat((cls_tokens, x), dim=1)\n",
    "        x += self.pos_embedding[:, :(n + 1)]\n",
    "\n",
    "        x = self.transformer(x)\n",
    "        x = x.mean(dim=1) if self.pool == 'mean' else x[:, 0]\n",
    "        x = self.out(x)\n",
    "        return x\n"
   ]
  },
  {
   "cell_type": "code",
   "source": [
    "trainloader, testloader = get_dataloaders()\n"
   ],
   "metadata": {
    "id": "WZayH8TpULY1",
    "colab": {
     "base_uri": "https://localhost:8080/"
    },
    "outputId": "f9575661-8f1b-45ef-f0f1-b9b7e69fa28b"
   },
   "execution_count": 8,
   "outputs": [
    {
     "output_type": "stream",
     "name": "stderr",
     "text": [
      "100%|██████████| 170M/170M [00:06<00:00, 27.7MB/s]\n"
     ]
    }
   ]
  },
  {
   "metadata": {},
   "cell_type": "markdown",
   "source": [
    "## ⚙️ Optimization Setup\n",
    "\n",
    "I configure the training pipeline by defining the optimizer, loss function, and a two-stage learning rate schedule.\n",
    "\n",
    "- **Loss function:** I use cross-entropy loss, which is standard for multi-class classification problems like CIFAR-10.\n",
    "- **Optimizer:** I choose AdamW, which combines Adam’s adaptive learning rates with decoupled weight decay, improving generalization compared to plain Adam.\n",
    "- **Learning rate schedule:** I use a **Linear Warmup + Cosine Annealing** schedule.\n",
    "  - During the warmup phase, the learning rate increases linearly from a small starting factor to the target value over the first few epochs.\n",
    "  - After warmup, the Cosine Annealing schedule gradually decreases the learning rate following a cosine curve, helping stabilize convergence and avoid sharp drops in loss late in training.\n",
    "\n",
    "This combination of warmup and cosine annealing is particularly effective for transformer models, as it allows stable early training while still providing a smooth decay later on.\n"
   ]
  },
  {
   "cell_type": "code",
   "source": [
    "import torch.optim as optim\n",
    "\n",
    "model = MyViT(image_size=32, patch_size=4, num_classes=10, dim=384, dim_head=48, heads=8, depth=8, mlp_dim=768, pool='cls', dropout=0.1)\n",
    "device = torch.device(\"cuda\" if torch.cuda.is_available() else \"cpu\")\n",
    "model = model.to(device)\n",
    "\n",
    "num_epochs = 250\n",
    "lr = 0.0003\n",
    "weight_decay = 0.1\n",
    "eta_min = 1e-12\n",
    "warmup = 10\n",
    "\n",
    "# Loss & optimizer\n",
    "criterion = nn.CrossEntropyLoss()\n",
    "criterion = criterion.to(device)\n",
    "optimizer = optim.AdamW(model.parameters(), lr=lr, weight_decay=weight_decay)\n",
    "\n",
    "warmup_scheduler = optim.lr_scheduler.LinearLR(optimizer, start_factor=1/25, end_factor=1.0, total_iters=warmup * len(trainloader))\n",
    "main_scheduler = optim.lr_scheduler.CosineAnnealingLR(optimizer, T_max = (num_epochs - warmup) * len(trainloader), eta_min=eta_min)\n",
    "scheduler = optim.lr_scheduler.SequentialLR(\n",
    "optimizer,\n",
    "schedulers = [warmup_scheduler, main_scheduler],\n",
    "milestones=[10 * len(trainloader)]\n",
    ")\n"
   ],
   "metadata": {
    "id": "TEsgE1UfRvFI"
   },
   "execution_count": 9,
   "outputs": []
  },
  {
   "metadata": {},
   "cell_type": "markdown",
   "source": [
    "## 🚀 Training Procedure\n",
    "\n",
    "I train the model using cross-entropy loss and the Adam optimizer.\n",
    "Training is performed for multiple epochs, iterating over mini-batches to update parameters and minimize classification error.\n",
    "\n",
    "I evaluate the model on the test set after each epoch to track generalization performance throughout training.\n"
   ]
  },
  {
   "cell_type": "code",
   "source": [
    "# Training and evaluation loop for 250 epochs\n",
    "# Tracks: training loss, training accuracy, test loss, test accuracy\n",
    "\n",
    "%%time\n",
    "train_losses, test_losses, train_accs, test_accs = [], [], [], []\n",
    "\n",
    "for epoch in range(num_epochs):\n",
    "        model.train()\n",
    "        running_loss = 0.0\n",
    "        correct, total = 0, 0\n",
    "\n",
    "        for inputs, labels in trainloader:\n",
    "            inputs, labels = inputs.to(device), labels.to(device)\n",
    "\n",
    "\n",
    "            # Forward pass\n",
    "            outputs = model(inputs)\n",
    "            loss = criterion(outputs, labels)\n",
    "\n",
    "            # # Backward and optimize\n",
    "            optimizer.zero_grad()\n",
    "            loss.backward()\n",
    "            optimizer.step()\n",
    "\n",
    "            scheduler.step()\n",
    "\n",
    "\n",
    "            # Track training loss and accuracy\n",
    "            running_loss += loss.item() * inputs.size(0)\n",
    "            _, predicted = outputs.max(1)\n",
    "            total += labels.size(0)\n",
    "            correct += predicted.eq(labels).sum().item()\n",
    "\n",
    "\n",
    "\n",
    "        train_loss = running_loss / total\n",
    "        train_acc = 100. * correct / total\n",
    "        train_losses.append(train_loss)\n",
    "        train_accs.append(train_acc)\n",
    "\n",
    "        # Evaluation\n",
    "        model.eval()\n",
    "        test_loss, correct_test, total_test = 0.0, 0, 0\n",
    "        with torch.no_grad():\n",
    "            for inputs, labels in testloader:\n",
    "                inputs, labels = inputs.to(device), labels.to(device)\n",
    "                outputs = model(inputs)\n",
    "                loss = criterion(outputs, labels)\n",
    "\n",
    "                test_loss += loss.item() * inputs.size(0)\n",
    "                _, predicted = outputs.max(1)\n",
    "                total_test += labels.size(0)\n",
    "                correct_test += predicted.eq(labels).sum().item()\n",
    "\n",
    "        test_loss /= total_test\n",
    "        test_acc = 100. * correct_test / total_test\n",
    "        test_losses.append(test_loss)\n",
    "        test_accs.append(test_acc)\n",
    "\n",
    "        print(f\"Epoch [{epoch+1}/{num_epochs}] \"\n",
    "              f\"Train Loss: {train_loss:.4f}, Train Acc: {train_acc:.2f}% | \"\n",
    "              f\"Test Loss: {test_loss:.4f}, Test Acc: {test_acc:.2f}%\")"
   ],
   "metadata": {
    "colab": {
     "base_uri": "https://localhost:8080/"
    },
    "id": "zpjOfTsmTEN9",
    "outputId": "15939284-cf64-49c0-8621-c77cc606f363"
   },
   "execution_count": 10,
   "outputs": [
    {
     "output_type": "stream",
     "name": "stdout",
     "text": [
      "Epoch [1/250] Train Loss: 2.2002, Train Acc: 17.18% | Test Loss: 1.9392, Test Acc: 28.45%\n",
      "Epoch [2/250] Train Loss: 2.0069, Train Acc: 26.75% | Test Loss: 1.6727, Test Acc: 39.28%\n",
      "Epoch [3/250] Train Loss: 1.8456, Train Acc: 32.96% | Test Loss: 1.4779, Test Acc: 46.98%\n",
      "Epoch [4/250] Train Loss: 1.7151, Train Acc: 37.95% | Test Loss: 1.3685, Test Acc: 50.69%\n",
      "Epoch [5/250] Train Loss: 1.6163, Train Acc: 41.54% | Test Loss: 1.2684, Test Acc: 54.77%\n",
      "Epoch [6/250] Train Loss: 1.5498, Train Acc: 44.27% | Test Loss: 1.2920, Test Acc: 53.89%\n",
      "Epoch [7/250] Train Loss: 1.4849, Train Acc: 46.45% | Test Loss: 1.1649, Test Acc: 58.51%\n",
      "Epoch [8/250] Train Loss: 1.4272, Train Acc: 48.79% | Test Loss: 1.1772, Test Acc: 57.85%\n",
      "Epoch [9/250] Train Loss: 1.3854, Train Acc: 50.31% | Test Loss: 1.0784, Test Acc: 60.91%\n"
     ]
    },
    {
     "output_type": "stream",
     "name": "stderr",
     "text": [
      "/usr/local/lib/python3.12/dist-packages/torch/optim/lr_scheduler.py:209: UserWarning: The epoch parameter in `scheduler.step()` was not necessary and is being deprecated where possible. Please use `scheduler.step()` to step the scheduler. During the deprecation, if epoch is different from None, the closed form is used instead of the new chainable form, where available. Please open an issue if you are unable to replicate your use case: https://github.com/pytorch/pytorch/issues/new/choose.\n",
      "  warnings.warn(EPOCH_DEPRECATION_WARNING, UserWarning)\n"
     ]
    },
    {
     "output_type": "stream",
     "name": "stdout",
     "text": [
      "Epoch [10/250] Train Loss: 1.3397, Train Acc: 51.94% | Test Loss: 1.0669, Test Acc: 61.29%\n",
      "Epoch [11/250] Train Loss: 1.3144, Train Acc: 52.92% | Test Loss: 1.0211, Test Acc: 63.62%\n",
      "Epoch [12/250] Train Loss: 1.2635, Train Acc: 55.00% | Test Loss: 0.9811, Test Acc: 64.62%\n",
      "Epoch [13/250] Train Loss: 1.2230, Train Acc: 56.35% | Test Loss: 0.9571, Test Acc: 66.04%\n",
      "Epoch [14/250] Train Loss: 1.1849, Train Acc: 57.55% | Test Loss: 0.9269, Test Acc: 66.89%\n",
      "Epoch [15/250] Train Loss: 1.1555, Train Acc: 58.94% | Test Loss: 0.8926, Test Acc: 68.26%\n",
      "Epoch [16/250] Train Loss: 1.1283, Train Acc: 59.95% | Test Loss: 0.8799, Test Acc: 68.53%\n",
      "Epoch [17/250] Train Loss: 1.0926, Train Acc: 61.23% | Test Loss: 0.8755, Test Acc: 68.68%\n",
      "Epoch [18/250] Train Loss: 1.0686, Train Acc: 62.19% | Test Loss: 0.8252, Test Acc: 70.32%\n",
      "Epoch [19/250] Train Loss: 1.0421, Train Acc: 62.77% | Test Loss: 0.8090, Test Acc: 71.33%\n",
      "Epoch [20/250] Train Loss: 1.0270, Train Acc: 63.64% | Test Loss: 0.7799, Test Acc: 72.19%\n",
      "Epoch [21/250] Train Loss: 0.9884, Train Acc: 64.92% | Test Loss: 0.7531, Test Acc: 73.32%\n",
      "Epoch [22/250] Train Loss: 0.9730, Train Acc: 65.56% | Test Loss: 0.7301, Test Acc: 74.46%\n",
      "Epoch [23/250] Train Loss: 0.9444, Train Acc: 66.66% | Test Loss: 0.7932, Test Acc: 71.28%\n",
      "Epoch [24/250] Train Loss: 0.9350, Train Acc: 66.88% | Test Loss: 0.7084, Test Acc: 75.08%\n",
      "Epoch [25/250] Train Loss: 0.9187, Train Acc: 67.58% | Test Loss: 0.7358, Test Acc: 73.90%\n",
      "Epoch [26/250] Train Loss: 0.8891, Train Acc: 68.48% | Test Loss: 0.7450, Test Acc: 73.64%\n",
      "Epoch [27/250] Train Loss: 0.8786, Train Acc: 69.20% | Test Loss: 0.6848, Test Acc: 75.64%\n",
      "Epoch [28/250] Train Loss: 0.8625, Train Acc: 69.57% | Test Loss: 0.6717, Test Acc: 76.34%\n",
      "Epoch [29/250] Train Loss: 0.8552, Train Acc: 69.80% | Test Loss: 0.7051, Test Acc: 75.12%\n",
      "Epoch [30/250] Train Loss: 0.8369, Train Acc: 70.50% | Test Loss: 0.6239, Test Acc: 78.16%\n",
      "Epoch [31/250] Train Loss: 0.8193, Train Acc: 71.30% | Test Loss: 0.6272, Test Acc: 77.93%\n",
      "Epoch [32/250] Train Loss: 0.8074, Train Acc: 71.53% | Test Loss: 0.6481, Test Acc: 77.40%\n",
      "Epoch [33/250] Train Loss: 0.7935, Train Acc: 72.00% | Test Loss: 0.6345, Test Acc: 77.52%\n",
      "Epoch [34/250] Train Loss: 0.7858, Train Acc: 72.36% | Test Loss: 0.6081, Test Acc: 78.77%\n",
      "Epoch [35/250] Train Loss: 0.7656, Train Acc: 72.91% | Test Loss: 0.6135, Test Acc: 78.80%\n",
      "Epoch [36/250] Train Loss: 0.7527, Train Acc: 73.35% | Test Loss: 0.5920, Test Acc: 79.31%\n",
      "Epoch [37/250] Train Loss: 0.7402, Train Acc: 73.81% | Test Loss: 0.6002, Test Acc: 78.91%\n",
      "Epoch [38/250] Train Loss: 0.7402, Train Acc: 73.70% | Test Loss: 0.5691, Test Acc: 80.07%\n",
      "Epoch [39/250] Train Loss: 0.7206, Train Acc: 74.67% | Test Loss: 0.5776, Test Acc: 79.99%\n",
      "Epoch [40/250] Train Loss: 0.7144, Train Acc: 74.80% | Test Loss: 0.5722, Test Acc: 80.10%\n",
      "Epoch [41/250] Train Loss: 0.7061, Train Acc: 75.23% | Test Loss: 0.5633, Test Acc: 80.01%\n",
      "Epoch [42/250] Train Loss: 0.6894, Train Acc: 75.81% | Test Loss: 0.5498, Test Acc: 80.65%\n",
      "Epoch [43/250] Train Loss: 0.6740, Train Acc: 76.20% | Test Loss: 0.5483, Test Acc: 81.15%\n",
      "Epoch [44/250] Train Loss: 0.6656, Train Acc: 76.48% | Test Loss: 0.5399, Test Acc: 81.35%\n",
      "Epoch [45/250] Train Loss: 0.6664, Train Acc: 76.38% | Test Loss: 0.5783, Test Acc: 80.06%\n",
      "Epoch [46/250] Train Loss: 0.6499, Train Acc: 77.00% | Test Loss: 0.5280, Test Acc: 81.77%\n",
      "Epoch [47/250] Train Loss: 0.6433, Train Acc: 77.27% | Test Loss: 0.5146, Test Acc: 82.01%\n",
      "Epoch [48/250] Train Loss: 0.6378, Train Acc: 77.43% | Test Loss: 0.5389, Test Acc: 81.31%\n",
      "Epoch [49/250] Train Loss: 0.6251, Train Acc: 77.93% | Test Loss: 0.5069, Test Acc: 82.23%\n",
      "Epoch [50/250] Train Loss: 0.6199, Train Acc: 78.25% | Test Loss: 0.5095, Test Acc: 82.66%\n",
      "Epoch [51/250] Train Loss: 0.6125, Train Acc: 78.41% | Test Loss: 0.5267, Test Acc: 81.88%\n",
      "Epoch [52/250] Train Loss: 0.6042, Train Acc: 78.77% | Test Loss: 0.5152, Test Acc: 82.53%\n",
      "Epoch [53/250] Train Loss: 0.5893, Train Acc: 79.22% | Test Loss: 0.5410, Test Acc: 81.94%\n",
      "Epoch [54/250] Train Loss: 0.5869, Train Acc: 79.10% | Test Loss: 0.4852, Test Acc: 83.24%\n",
      "Epoch [55/250] Train Loss: 0.5825, Train Acc: 79.42% | Test Loss: 0.4946, Test Acc: 83.36%\n",
      "Epoch [56/250] Train Loss: 0.5729, Train Acc: 79.68% | Test Loss: 0.4902, Test Acc: 83.33%\n",
      "Epoch [57/250] Train Loss: 0.5575, Train Acc: 80.30% | Test Loss: 0.4804, Test Acc: 84.02%\n",
      "Epoch [58/250] Train Loss: 0.5576, Train Acc: 80.33% | Test Loss: 0.4834, Test Acc: 83.64%\n",
      "Epoch [59/250] Train Loss: 0.5475, Train Acc: 80.67% | Test Loss: 0.5003, Test Acc: 83.01%\n",
      "Epoch [60/250] Train Loss: 0.5477, Train Acc: 80.86% | Test Loss: 0.4714, Test Acc: 83.82%\n",
      "Epoch [61/250] Train Loss: 0.5388, Train Acc: 80.92% | Test Loss: 0.4923, Test Acc: 83.48%\n",
      "Epoch [62/250] Train Loss: 0.5274, Train Acc: 81.58% | Test Loss: 0.4653, Test Acc: 84.34%\n",
      "Epoch [63/250] Train Loss: 0.5251, Train Acc: 81.47% | Test Loss: 0.4661, Test Acc: 84.05%\n",
      "Epoch [64/250] Train Loss: 0.5218, Train Acc: 81.60% | Test Loss: 0.4781, Test Acc: 83.40%\n",
      "Epoch [65/250] Train Loss: 0.5058, Train Acc: 82.05% | Test Loss: 0.4732, Test Acc: 84.12%\n",
      "Epoch [66/250] Train Loss: 0.5055, Train Acc: 82.07% | Test Loss: 0.4588, Test Acc: 84.52%\n",
      "Epoch [67/250] Train Loss: 0.4990, Train Acc: 82.59% | Test Loss: 0.4562, Test Acc: 84.60%\n",
      "Epoch [68/250] Train Loss: 0.4919, Train Acc: 82.73% | Test Loss: 0.4641, Test Acc: 84.30%\n",
      "Epoch [69/250] Train Loss: 0.4855, Train Acc: 82.80% | Test Loss: 0.4438, Test Acc: 84.76%\n",
      "Epoch [70/250] Train Loss: 0.4774, Train Acc: 83.15% | Test Loss: 0.4539, Test Acc: 84.86%\n",
      "Epoch [71/250] Train Loss: 0.4673, Train Acc: 83.43% | Test Loss: 0.4457, Test Acc: 85.14%\n",
      "Epoch [72/250] Train Loss: 0.4676, Train Acc: 83.43% | Test Loss: 0.4477, Test Acc: 85.49%\n",
      "Epoch [73/250] Train Loss: 0.4590, Train Acc: 83.92% | Test Loss: 0.4491, Test Acc: 85.24%\n",
      "Epoch [74/250] Train Loss: 0.4555, Train Acc: 84.08% | Test Loss: 0.4427, Test Acc: 85.34%\n",
      "Epoch [75/250] Train Loss: 0.4581, Train Acc: 83.92% | Test Loss: 0.4515, Test Acc: 85.01%\n",
      "Epoch [76/250] Train Loss: 0.4568, Train Acc: 84.06% | Test Loss: 0.4454, Test Acc: 85.43%\n",
      "Epoch [77/250] Train Loss: 0.4433, Train Acc: 84.50% | Test Loss: 0.4517, Test Acc: 85.56%\n",
      "Epoch [78/250] Train Loss: 0.4301, Train Acc: 84.71% | Test Loss: 0.4660, Test Acc: 85.29%\n",
      "Epoch [79/250] Train Loss: 0.4263, Train Acc: 85.00% | Test Loss: 0.4571, Test Acc: 85.18%\n",
      "Epoch [80/250] Train Loss: 0.4253, Train Acc: 85.01% | Test Loss: 0.4468, Test Acc: 85.73%\n",
      "Epoch [81/250] Train Loss: 0.4236, Train Acc: 85.06% | Test Loss: 0.4246, Test Acc: 86.29%\n",
      "Epoch [82/250] Train Loss: 0.4155, Train Acc: 85.46% | Test Loss: 0.4397, Test Acc: 86.10%\n",
      "Epoch [83/250] Train Loss: 0.4123, Train Acc: 85.45% | Test Loss: 0.4339, Test Acc: 85.88%\n",
      "Epoch [84/250] Train Loss: 0.4099, Train Acc: 85.48% | Test Loss: 0.4660, Test Acc: 85.37%\n",
      "Epoch [85/250] Train Loss: 0.4019, Train Acc: 85.82% | Test Loss: 0.4438, Test Acc: 86.29%\n",
      "Epoch [86/250] Train Loss: 0.3913, Train Acc: 86.22% | Test Loss: 0.4392, Test Acc: 85.86%\n",
      "Epoch [87/250] Train Loss: 0.3972, Train Acc: 86.09% | Test Loss: 0.4189, Test Acc: 86.50%\n",
      "Epoch [88/250] Train Loss: 0.3853, Train Acc: 86.42% | Test Loss: 0.4425, Test Acc: 86.01%\n",
      "Epoch [89/250] Train Loss: 0.3846, Train Acc: 86.35% | Test Loss: 0.4595, Test Acc: 86.07%\n",
      "Epoch [90/250] Train Loss: 0.3793, Train Acc: 86.67% | Test Loss: 0.4333, Test Acc: 86.26%\n",
      "Epoch [91/250] Train Loss: 0.3762, Train Acc: 86.66% | Test Loss: 0.4254, Test Acc: 86.45%\n",
      "Epoch [92/250] Train Loss: 0.3683, Train Acc: 87.04% | Test Loss: 0.4356, Test Acc: 86.50%\n",
      "Epoch [93/250] Train Loss: 0.3652, Train Acc: 87.13% | Test Loss: 0.4396, Test Acc: 86.57%\n",
      "Epoch [94/250] Train Loss: 0.3595, Train Acc: 87.36% | Test Loss: 0.4385, Test Acc: 86.98%\n",
      "Epoch [95/250] Train Loss: 0.3631, Train Acc: 87.26% | Test Loss: 0.4509, Test Acc: 86.41%\n",
      "Epoch [96/250] Train Loss: 0.3540, Train Acc: 87.46% | Test Loss: 0.4371, Test Acc: 86.47%\n",
      "Epoch [97/250] Train Loss: 0.3477, Train Acc: 87.84% | Test Loss: 0.4268, Test Acc: 87.04%\n",
      "Epoch [98/250] Train Loss: 0.3492, Train Acc: 87.70% | Test Loss: 0.4453, Test Acc: 86.58%\n",
      "Epoch [99/250] Train Loss: 0.3452, Train Acc: 87.90% | Test Loss: 0.4246, Test Acc: 87.30%\n",
      "Epoch [100/250] Train Loss: 0.3410, Train Acc: 88.06% | Test Loss: 0.4251, Test Acc: 87.03%\n",
      "Epoch [101/250] Train Loss: 0.3402, Train Acc: 88.00% | Test Loss: 0.4332, Test Acc: 87.26%\n",
      "Epoch [102/250] Train Loss: 0.3365, Train Acc: 88.22% | Test Loss: 0.4402, Test Acc: 87.04%\n",
      "Epoch [103/250] Train Loss: 0.3237, Train Acc: 88.74% | Test Loss: 0.4391, Test Acc: 86.73%\n",
      "Epoch [104/250] Train Loss: 0.3278, Train Acc: 88.54% | Test Loss: 0.4400, Test Acc: 86.99%\n",
      "Epoch [105/250] Train Loss: 0.3204, Train Acc: 88.80% | Test Loss: 0.4387, Test Acc: 87.04%\n",
      "Epoch [106/250] Train Loss: 0.3188, Train Acc: 88.81% | Test Loss: 0.4154, Test Acc: 87.66%\n",
      "Epoch [107/250] Train Loss: 0.3178, Train Acc: 88.86% | Test Loss: 0.4279, Test Acc: 87.48%\n",
      "Epoch [108/250] Train Loss: 0.3119, Train Acc: 88.92% | Test Loss: 0.4370, Test Acc: 87.34%\n",
      "Epoch [109/250] Train Loss: 0.3117, Train Acc: 88.95% | Test Loss: 0.4192, Test Acc: 87.10%\n",
      "Epoch [110/250] Train Loss: 0.3021, Train Acc: 89.39% | Test Loss: 0.4497, Test Acc: 86.66%\n",
      "Epoch [111/250] Train Loss: 0.3063, Train Acc: 89.21% | Test Loss: 0.4505, Test Acc: 87.04%\n",
      "Epoch [112/250] Train Loss: 0.3013, Train Acc: 89.54% | Test Loss: 0.4415, Test Acc: 87.49%\n",
      "Epoch [113/250] Train Loss: 0.3029, Train Acc: 89.40% | Test Loss: 0.4432, Test Acc: 87.08%\n",
      "Epoch [114/250] Train Loss: 0.2992, Train Acc: 89.50% | Test Loss: 0.4191, Test Acc: 87.35%\n",
      "Epoch [115/250] Train Loss: 0.2907, Train Acc: 89.85% | Test Loss: 0.4305, Test Acc: 87.49%\n",
      "Epoch [116/250] Train Loss: 0.2874, Train Acc: 89.86% | Test Loss: 0.4522, Test Acc: 87.28%\n",
      "Epoch [117/250] Train Loss: 0.2881, Train Acc: 89.84% | Test Loss: 0.4453, Test Acc: 87.70%\n",
      "Epoch [118/250] Train Loss: 0.2852, Train Acc: 89.99% | Test Loss: 0.4237, Test Acc: 87.93%\n",
      "Epoch [119/250] Train Loss: 0.2842, Train Acc: 90.22% | Test Loss: 0.4327, Test Acc: 87.66%\n",
      "Epoch [120/250] Train Loss: 0.2826, Train Acc: 90.09% | Test Loss: 0.4383, Test Acc: 87.61%\n",
      "Epoch [121/250] Train Loss: 0.2756, Train Acc: 90.24% | Test Loss: 0.4454, Test Acc: 87.65%\n",
      "Epoch [122/250] Train Loss: 0.2725, Train Acc: 90.39% | Test Loss: 0.4329, Test Acc: 87.66%\n",
      "Epoch [123/250] Train Loss: 0.2685, Train Acc: 90.67% | Test Loss: 0.4182, Test Acc: 88.18%\n",
      "Epoch [124/250] Train Loss: 0.2666, Train Acc: 90.62% | Test Loss: 0.4277, Test Acc: 87.78%\n",
      "Epoch [125/250] Train Loss: 0.2626, Train Acc: 90.86% | Test Loss: 0.4320, Test Acc: 87.89%\n",
      "Epoch [126/250] Train Loss: 0.2625, Train Acc: 90.87% | Test Loss: 0.4386, Test Acc: 87.45%\n",
      "Epoch [127/250] Train Loss: 0.2585, Train Acc: 91.13% | Test Loss: 0.4476, Test Acc: 87.77%\n",
      "Epoch [128/250] Train Loss: 0.2580, Train Acc: 91.03% | Test Loss: 0.4180, Test Acc: 88.12%\n",
      "Epoch [129/250] Train Loss: 0.2596, Train Acc: 91.05% | Test Loss: 0.4413, Test Acc: 87.85%\n",
      "Epoch [130/250] Train Loss: 0.2528, Train Acc: 91.27% | Test Loss: 0.4336, Test Acc: 88.37%\n",
      "Epoch [131/250] Train Loss: 0.2513, Train Acc: 91.20% | Test Loss: 0.4295, Test Acc: 88.04%\n",
      "Epoch [132/250] Train Loss: 0.2513, Train Acc: 91.25% | Test Loss: 0.4243, Test Acc: 88.29%\n",
      "Epoch [133/250] Train Loss: 0.2439, Train Acc: 91.62% | Test Loss: 0.4106, Test Acc: 88.50%\n",
      "Epoch [134/250] Train Loss: 0.2503, Train Acc: 91.21% | Test Loss: 0.4192, Test Acc: 88.28%\n",
      "Epoch [135/250] Train Loss: 0.2434, Train Acc: 91.50% | Test Loss: 0.4233, Test Acc: 88.53%\n",
      "Epoch [136/250] Train Loss: 0.2372, Train Acc: 91.67% | Test Loss: 0.4377, Test Acc: 88.46%\n",
      "Epoch [137/250] Train Loss: 0.2346, Train Acc: 91.79% | Test Loss: 0.4251, Test Acc: 88.78%\n",
      "Epoch [138/250] Train Loss: 0.2414, Train Acc: 91.52% | Test Loss: 0.4249, Test Acc: 88.44%\n",
      "Epoch [139/250] Train Loss: 0.2322, Train Acc: 91.80% | Test Loss: 0.4142, Test Acc: 88.82%\n",
      "Epoch [140/250] Train Loss: 0.2310, Train Acc: 92.01% | Test Loss: 0.4295, Test Acc: 88.20%\n",
      "Epoch [141/250] Train Loss: 0.2345, Train Acc: 91.89% | Test Loss: 0.4295, Test Acc: 88.34%\n",
      "Epoch [142/250] Train Loss: 0.2304, Train Acc: 91.88% | Test Loss: 0.4284, Test Acc: 88.24%\n",
      "Epoch [143/250] Train Loss: 0.2292, Train Acc: 92.06% | Test Loss: 0.4392, Test Acc: 88.25%\n",
      "Epoch [144/250] Train Loss: 0.2273, Train Acc: 92.24% | Test Loss: 0.4154, Test Acc: 88.35%\n",
      "Epoch [145/250] Train Loss: 0.2273, Train Acc: 92.15% | Test Loss: 0.4360, Test Acc: 88.28%\n",
      "Epoch [146/250] Train Loss: 0.2191, Train Acc: 92.43% | Test Loss: 0.4398, Test Acc: 88.25%\n",
      "Epoch [147/250] Train Loss: 0.2192, Train Acc: 92.34% | Test Loss: 0.4227, Test Acc: 88.58%\n",
      "Epoch [148/250] Train Loss: 0.2165, Train Acc: 92.58% | Test Loss: 0.4368, Test Acc: 88.47%\n",
      "Epoch [149/250] Train Loss: 0.2193, Train Acc: 92.28% | Test Loss: 0.4368, Test Acc: 88.36%\n",
      "Epoch [150/250] Train Loss: 0.2135, Train Acc: 92.56% | Test Loss: 0.4361, Test Acc: 88.56%\n",
      "Epoch [151/250] Train Loss: 0.2117, Train Acc: 92.80% | Test Loss: 0.4252, Test Acc: 88.56%\n",
      "Epoch [152/250] Train Loss: 0.2062, Train Acc: 92.95% | Test Loss: 0.4284, Test Acc: 88.71%\n",
      "Epoch [153/250] Train Loss: 0.2063, Train Acc: 92.95% | Test Loss: 0.4260, Test Acc: 88.94%\n",
      "Epoch [154/250] Train Loss: 0.2049, Train Acc: 92.96% | Test Loss: 0.4334, Test Acc: 89.27%\n",
      "Epoch [155/250] Train Loss: 0.2060, Train Acc: 92.92% | Test Loss: 0.4203, Test Acc: 89.24%\n",
      "Epoch [156/250] Train Loss: 0.2061, Train Acc: 92.75% | Test Loss: 0.4388, Test Acc: 88.59%\n",
      "Epoch [157/250] Train Loss: 0.2089, Train Acc: 92.86% | Test Loss: 0.4285, Test Acc: 88.97%\n",
      "Epoch [158/250] Train Loss: 0.1971, Train Acc: 93.20% | Test Loss: 0.4262, Test Acc: 89.09%\n",
      "Epoch [159/250] Train Loss: 0.2001, Train Acc: 93.07% | Test Loss: 0.4320, Test Acc: 89.16%\n",
      "Epoch [160/250] Train Loss: 0.1945, Train Acc: 93.18% | Test Loss: 0.4243, Test Acc: 89.03%\n",
      "Epoch [161/250] Train Loss: 0.1958, Train Acc: 93.24% | Test Loss: 0.4197, Test Acc: 89.14%\n",
      "Epoch [162/250] Train Loss: 0.1933, Train Acc: 93.41% | Test Loss: 0.4237, Test Acc: 89.08%\n",
      "Epoch [163/250] Train Loss: 0.1901, Train Acc: 93.43% | Test Loss: 0.4314, Test Acc: 89.31%\n",
      "Epoch [164/250] Train Loss: 0.1902, Train Acc: 93.43% | Test Loss: 0.4191, Test Acc: 89.12%\n",
      "Epoch [165/250] Train Loss: 0.1896, Train Acc: 93.48% | Test Loss: 0.4212, Test Acc: 89.23%\n",
      "Epoch [166/250] Train Loss: 0.1882, Train Acc: 93.39% | Test Loss: 0.4428, Test Acc: 89.24%\n",
      "Epoch [167/250] Train Loss: 0.1882, Train Acc: 93.38% | Test Loss: 0.4205, Test Acc: 89.07%\n",
      "Epoch [168/250] Train Loss: 0.1917, Train Acc: 93.41% | Test Loss: 0.4275, Test Acc: 89.16%\n",
      "Epoch [169/250] Train Loss: 0.1858, Train Acc: 93.48% | Test Loss: 0.4273, Test Acc: 89.10%\n",
      "Epoch [170/250] Train Loss: 0.1814, Train Acc: 93.62% | Test Loss: 0.4244, Test Acc: 89.32%\n",
      "Epoch [171/250] Train Loss: 0.1868, Train Acc: 93.53% | Test Loss: 0.4091, Test Acc: 89.34%\n",
      "Epoch [172/250] Train Loss: 0.1719, Train Acc: 94.09% | Test Loss: 0.4039, Test Acc: 89.51%\n",
      "Epoch [173/250] Train Loss: 0.1747, Train Acc: 93.90% | Test Loss: 0.4290, Test Acc: 89.21%\n",
      "Epoch [174/250] Train Loss: 0.1766, Train Acc: 93.92% | Test Loss: 0.4272, Test Acc: 89.31%\n",
      "Epoch [175/250] Train Loss: 0.1778, Train Acc: 93.78% | Test Loss: 0.4159, Test Acc: 89.31%\n",
      "Epoch [176/250] Train Loss: 0.1774, Train Acc: 93.98% | Test Loss: 0.4277, Test Acc: 89.36%\n",
      "Epoch [177/250] Train Loss: 0.1725, Train Acc: 94.04% | Test Loss: 0.4193, Test Acc: 89.56%\n",
      "Epoch [178/250] Train Loss: 0.1688, Train Acc: 94.22% | Test Loss: 0.4050, Test Acc: 89.85%\n",
      "Epoch [179/250] Train Loss: 0.1701, Train Acc: 94.08% | Test Loss: 0.4043, Test Acc: 89.68%\n",
      "Epoch [180/250] Train Loss: 0.1675, Train Acc: 94.23% | Test Loss: 0.4054, Test Acc: 89.97%\n",
      "Epoch [181/250] Train Loss: 0.1691, Train Acc: 94.12% | Test Loss: 0.4219, Test Acc: 89.65%\n",
      "Epoch [182/250] Train Loss: 0.1724, Train Acc: 94.07% | Test Loss: 0.4168, Test Acc: 89.84%\n",
      "Epoch [183/250] Train Loss: 0.1614, Train Acc: 94.51% | Test Loss: 0.4199, Test Acc: 89.59%\n",
      "Epoch [184/250] Train Loss: 0.1666, Train Acc: 94.18% | Test Loss: 0.4120, Test Acc: 89.63%\n",
      "Epoch [185/250] Train Loss: 0.1673, Train Acc: 94.17% | Test Loss: 0.4100, Test Acc: 89.71%\n",
      "Epoch [186/250] Train Loss: 0.1643, Train Acc: 94.32% | Test Loss: 0.4219, Test Acc: 89.69%\n",
      "Epoch [187/250] Train Loss: 0.1647, Train Acc: 94.31% | Test Loss: 0.4167, Test Acc: 89.56%\n",
      "Epoch [188/250] Train Loss: 0.1592, Train Acc: 94.47% | Test Loss: 0.4277, Test Acc: 89.71%\n",
      "Epoch [189/250] Train Loss: 0.1624, Train Acc: 94.38% | Test Loss: 0.4163, Test Acc: 89.82%\n",
      "Epoch [190/250] Train Loss: 0.1568, Train Acc: 94.52% | Test Loss: 0.4138, Test Acc: 89.66%\n",
      "Epoch [191/250] Train Loss: 0.1580, Train Acc: 94.50% | Test Loss: 0.4171, Test Acc: 89.80%\n",
      "Epoch [192/250] Train Loss: 0.1535, Train Acc: 94.71% | Test Loss: 0.4337, Test Acc: 89.47%\n",
      "Epoch [193/250] Train Loss: 0.1587, Train Acc: 94.45% | Test Loss: 0.4290, Test Acc: 89.40%\n",
      "Epoch [194/250] Train Loss: 0.1506, Train Acc: 94.92% | Test Loss: 0.4193, Test Acc: 89.81%\n",
      "Epoch [195/250] Train Loss: 0.1553, Train Acc: 94.66% | Test Loss: 0.4168, Test Acc: 89.81%\n",
      "Epoch [196/250] Train Loss: 0.1554, Train Acc: 94.74% | Test Loss: 0.4167, Test Acc: 89.95%\n",
      "Epoch [197/250] Train Loss: 0.1510, Train Acc: 94.71% | Test Loss: 0.4197, Test Acc: 89.80%\n",
      "Epoch [198/250] Train Loss: 0.1472, Train Acc: 94.87% | Test Loss: 0.4213, Test Acc: 90.05%\n",
      "Epoch [199/250] Train Loss: 0.1509, Train Acc: 94.83% | Test Loss: 0.4189, Test Acc: 90.22%\n",
      "Epoch [200/250] Train Loss: 0.1500, Train Acc: 94.81% | Test Loss: 0.4223, Test Acc: 89.84%\n",
      "Epoch [201/250] Train Loss: 0.1455, Train Acc: 94.95% | Test Loss: 0.4213, Test Acc: 89.85%\n",
      "Epoch [202/250] Train Loss: 0.1526, Train Acc: 94.68% | Test Loss: 0.4222, Test Acc: 90.05%\n",
      "Epoch [203/250] Train Loss: 0.1484, Train Acc: 94.79% | Test Loss: 0.4240, Test Acc: 90.02%\n",
      "Epoch [204/250] Train Loss: 0.1464, Train Acc: 95.07% | Test Loss: 0.4126, Test Acc: 90.14%\n",
      "Epoch [205/250] Train Loss: 0.1451, Train Acc: 94.95% | Test Loss: 0.4207, Test Acc: 90.09%\n",
      "Epoch [206/250] Train Loss: 0.1441, Train Acc: 95.11% | Test Loss: 0.4284, Test Acc: 90.00%\n",
      "Epoch [207/250] Train Loss: 0.1469, Train Acc: 94.97% | Test Loss: 0.4125, Test Acc: 90.08%\n",
      "Epoch [208/250] Train Loss: 0.1466, Train Acc: 94.86% | Test Loss: 0.4165, Test Acc: 89.89%\n",
      "Epoch [209/250] Train Loss: 0.1449, Train Acc: 94.97% | Test Loss: 0.4136, Test Acc: 89.97%\n",
      "Epoch [210/250] Train Loss: 0.1402, Train Acc: 95.05% | Test Loss: 0.4189, Test Acc: 90.17%\n",
      "Epoch [211/250] Train Loss: 0.1407, Train Acc: 95.14% | Test Loss: 0.4257, Test Acc: 90.01%\n",
      "Epoch [212/250] Train Loss: 0.1463, Train Acc: 94.94% | Test Loss: 0.4033, Test Acc: 90.00%\n",
      "Epoch [213/250] Train Loss: 0.1440, Train Acc: 95.06% | Test Loss: 0.4133, Test Acc: 90.02%\n",
      "Epoch [214/250] Train Loss: 0.1394, Train Acc: 95.21% | Test Loss: 0.4114, Test Acc: 90.08%\n",
      "Epoch [215/250] Train Loss: 0.1443, Train Acc: 95.07% | Test Loss: 0.4142, Test Acc: 90.19%\n",
      "Epoch [216/250] Train Loss: 0.1372, Train Acc: 95.29% | Test Loss: 0.4230, Test Acc: 89.88%\n",
      "Epoch [217/250] Train Loss: 0.1374, Train Acc: 95.22% | Test Loss: 0.4215, Test Acc: 90.06%\n",
      "Epoch [218/250] Train Loss: 0.1353, Train Acc: 95.29% | Test Loss: 0.4197, Test Acc: 90.04%\n",
      "Epoch [219/250] Train Loss: 0.1348, Train Acc: 95.41% | Test Loss: 0.4155, Test Acc: 90.15%\n",
      "Epoch [220/250] Train Loss: 0.1396, Train Acc: 95.19% | Test Loss: 0.4174, Test Acc: 90.03%\n",
      "Epoch [221/250] Train Loss: 0.1358, Train Acc: 95.27% | Test Loss: 0.4156, Test Acc: 90.13%\n",
      "Epoch [222/250] Train Loss: 0.1355, Train Acc: 95.36% | Test Loss: 0.4166, Test Acc: 90.08%\n",
      "Epoch [223/250] Train Loss: 0.1327, Train Acc: 95.33% | Test Loss: 0.4213, Test Acc: 89.99%\n",
      "Epoch [224/250] Train Loss: 0.1349, Train Acc: 95.30% | Test Loss: 0.4232, Test Acc: 89.99%\n",
      "Epoch [225/250] Train Loss: 0.1377, Train Acc: 95.23% | Test Loss: 0.4198, Test Acc: 89.99%\n",
      "Epoch [226/250] Train Loss: 0.1363, Train Acc: 95.29% | Test Loss: 0.4185, Test Acc: 90.10%\n",
      "Epoch [227/250] Train Loss: 0.1374, Train Acc: 95.23% | Test Loss: 0.4165, Test Acc: 90.05%\n",
      "Epoch [228/250] Train Loss: 0.1334, Train Acc: 95.38% | Test Loss: 0.4183, Test Acc: 90.13%\n",
      "Epoch [229/250] Train Loss: 0.1336, Train Acc: 95.34% | Test Loss: 0.4174, Test Acc: 90.19%\n",
      "Epoch [230/250] Train Loss: 0.1304, Train Acc: 95.39% | Test Loss: 0.4164, Test Acc: 90.17%\n",
      "Epoch [231/250] Train Loss: 0.1339, Train Acc: 95.35% | Test Loss: 0.4176, Test Acc: 90.19%\n",
      "Epoch [232/250] Train Loss: 0.1364, Train Acc: 95.34% | Test Loss: 0.4143, Test Acc: 90.17%\n",
      "Epoch [233/250] Train Loss: 0.1333, Train Acc: 95.39% | Test Loss: 0.4155, Test Acc: 90.23%\n",
      "Epoch [234/250] Train Loss: 0.1317, Train Acc: 95.48% | Test Loss: 0.4153, Test Acc: 90.27%\n",
      "Epoch [235/250] Train Loss: 0.1334, Train Acc: 95.38% | Test Loss: 0.4167, Test Acc: 90.15%\n",
      "Epoch [236/250] Train Loss: 0.1310, Train Acc: 95.47% | Test Loss: 0.4158, Test Acc: 90.19%\n",
      "Epoch [237/250] Train Loss: 0.1296, Train Acc: 95.53% | Test Loss: 0.4153, Test Acc: 90.23%\n",
      "Epoch [238/250] Train Loss: 0.1302, Train Acc: 95.46% | Test Loss: 0.4165, Test Acc: 90.16%\n",
      "Epoch [239/250] Train Loss: 0.1349, Train Acc: 95.31% | Test Loss: 0.4147, Test Acc: 90.21%\n",
      "Epoch [240/250] Train Loss: 0.1305, Train Acc: 95.57% | Test Loss: 0.4154, Test Acc: 90.16%\n",
      "Epoch [241/250] Train Loss: 0.1309, Train Acc: 95.59% | Test Loss: 0.4154, Test Acc: 90.22%\n",
      "Epoch [242/250] Train Loss: 0.1306, Train Acc: 95.49% | Test Loss: 0.4149, Test Acc: 90.20%\n",
      "Epoch [243/250] Train Loss: 0.1341, Train Acc: 95.42% | Test Loss: 0.4146, Test Acc: 90.17%\n",
      "Epoch [244/250] Train Loss: 0.1332, Train Acc: 95.46% | Test Loss: 0.4150, Test Acc: 90.20%\n",
      "Epoch [245/250] Train Loss: 0.1315, Train Acc: 95.47% | Test Loss: 0.4151, Test Acc: 90.21%\n",
      "Epoch [246/250] Train Loss: 0.1276, Train Acc: 95.55% | Test Loss: 0.4151, Test Acc: 90.20%\n",
      "Epoch [247/250] Train Loss: 0.1334, Train Acc: 95.34% | Test Loss: 0.4149, Test Acc: 90.21%\n",
      "Epoch [248/250] Train Loss: 0.1326, Train Acc: 95.44% | Test Loss: 0.4150, Test Acc: 90.23%\n",
      "Epoch [249/250] Train Loss: 0.1270, Train Acc: 95.67% | Test Loss: 0.4150, Test Acc: 90.23%\n",
      "Epoch [250/250] Train Loss: 0.1284, Train Acc: 95.46% | Test Loss: 0.4150, Test Acc: 90.23%\n",
      "CPU times: user 1h 17min 56s, sys: 1min 44s, total: 1h 19min 40s\n",
      "Wall time: 1h 18min 18s\n"
     ]
    }
   ]
  },
  {
   "metadata": {},
   "cell_type": "markdown",
   "source": [
    "## 🧪 Evaluation\n",
    "\n",
    "After training, I run inference on test images to assess the model’s qualitative performance.\n",
    "Inspecting predictions visually helps me verify whether the network learned meaningful representations and identify common failure cases between similar classes.\n"
   ]
  },
  {
   "cell_type": "code",
   "source": [
    "# 🔍 Run inference on a few test images to visualize predictions\n",
    "import matplotlib.pyplot as plt\n",
    "\n",
    "classes = trainloader.dataset.classes\n",
    "dataiter = iter(testloader)\n",
    "images, labels = next(dataiter)\n",
    "\n",
    "# Move model to eval mode\n",
    "model.eval()\n",
    "images = images.to(device)\n",
    "outputs = model(images)\n",
    "_, preds = torch.max(outputs, 1)\n",
    "\n",
    "# Show predictions\n",
    "fig = plt.figure(figsize=(10,4))\n",
    "for i in range(5):\n",
    "    ax = fig.add_subplot(1, 5, i+1)\n",
    "    img = images[i].cpu().permute(1, 2, 0)\n",
    "    img = img * torch.tensor([0.2470, 0.2435, 0.2616]) + torch.tensor([0.4914, 0.4822, 0.4465])  # unnormalize\n",
    "    ax.imshow(img.clip(0,1))\n",
    "    ax.set_title(f\"Pred: {classes[preds[i]]}\\nTrue: {classes[labels[i]]}\")\n",
    "    ax.axis('off')\n"
   ],
   "metadata": {
    "colab": {
     "base_uri": "https://localhost:8080/",
     "height": 213
    },
    "id": "xQI5MpeG4nAF",
    "outputId": "a0ca242c-e1e3-4617-9855-cfff5b1f282a"
   },
   "execution_count": 11,
   "outputs": [
    {
     "output_type": "display_data",
     "data": {
      "text/plain": [
       "<Figure size 1000x400 with 5 Axes>"
      ],
      "image/png": "[encoded data removed]"
     },
     "metadata": {}
    }
   ]
  },
  {
   "metadata": {},
   "cell_type": "markdown",
   "source": [
    "## 🧮 Model Complexity\n",
    "\n",
    "I calculate the total number of trainable parameters to understand the model’s capacity.\n",
    "ViTs typically have more parameters than small CNNs, which affects training time and memory usage.\n"
   ]
  },
  {
   "cell_type": "code",
   "source": [
    "# Calculate Model Parameters\n",
    "\n",
    "total_params = sum(p.numel() for p in model.parameters() if p.requires_grad)\n",
    "print(f\"Total parameters: {total_params:,}\")\n",
    "print(f\"~{total_params / 1e6:.2f} million parameters\")\n"
   ],
   "metadata": {
    "colab": {
     "base_uri": "https://localhost:8080/"
    },
    "id": "1mgSk8mD7JH_",
    "outputId": "fbd7ebc0-f7cb-4fd3-bd42-62662d2df815"
   },
   "execution_count": 12,
   "outputs": [
    {
     "output_type": "stream",
     "name": "stdout",
     "text": [
      "Total parameters: 9,519,754\n",
      "~9.52 million parameters\n"
     ]
    }
   ]
  },
  {
   "metadata": {},
   "cell_type": "markdown",
   "source": [
    "## 📊 Training Results\n",
    "\n",
    "After completing the training, I plot the accuracy and loss curves recorded over all epochs.\n",
    "These plots give a clear overview of how the model’s performance evolved during training:\n",
    "\n",
    "- They show how quickly and steadily the network learned.\n",
    "- They reveal potential issues like overfitting (diverging train/test curves) or underfitting (both curves plateauing at low performance).\n",
    "- They help me evaluate whether the chosen optimization strategy and architecture were effective.\n",
    "\n",
    "Visualizing the full training history makes it easier to interpret the final results and diagnose any training instabilities.\n"
   ]
  },
  {
   "cell_type": "markdown",
   "source": [
    "# 📈 Plot: Test Accuracy vs Epochs\n"
   ],
   "metadata": {
    "id": "MXpOgqCg40-C"
   }
  },
  {
   "cell_type": "code",
   "source": [
    "import matplotlib.pyplot as plt\n",
    "def plot_test_acc():\n",
    "    plt.figure(figsize=(8, 4))\n",
    "    plt.plot(range(1, num_epochs+1), test_accs, marker='o')\n",
    "    plt.title(\"Test Accuracy vs Epochs\")\n",
    "    plt.xlabel(\"Epoch\")\n",
    "    plt.ylabel(\"Test Accuracy (%)\")\n",
    "    plt.grid(True)\n",
    "    plt.show()\n",
    "plot_test_acc()"
   ],
   "metadata": {
    "colab": {
     "base_uri": "https://localhost:8080/",
     "height": 410
    },
    "id": "nk25m8cqxV6o",
    "outputId": "998b1bcd-b420-4de0-c064-c6fb7ebb7884"
   },
   "execution_count": 13,
   "outputs": [
    {
     "output_type": "display_data",
     "data": {
      "text/plain": [
       "<Figure size 800x400 with 1 Axes>"
      ],
      "image/png": "[encoded data removed]"
     },
     "metadata": {}
    }
   ]
  },
  {
   "cell_type": "markdown",
   "source": [
    "# 📉 Plot: Training and Test Loss vs Epochs\n"
   ],
   "metadata": {
    "id": "Oe8UbLnQ43BQ"
   }
  },
  {
   "cell_type": "code",
   "source": [
    "# Plot Train and Test Loss\n",
    "def plot_train_test_loss():\n",
    "    plt.figure(figsize=(8, 5))\n",
    "    plt.plot(range(1, num_epochs+1), train_losses, label='Train Loss', marker='o')\n",
    "    plt.plot(range(1, num_epochs+1), test_losses, label='Test Loss', marker='x')\n",
    "    plt.title(\"Loss vs Epochs\")\n",
    "    plt.xlabel(\"Epoch\")\n",
    "    plt.ylabel(\"Loss\")\n",
    "    plt.legend()\n",
    "    plt.grid(True)\n",
    "    plt.show()\n",
    "plot_train_test_loss()"
   ],
   "metadata": {
    "colab": {
     "base_uri": "https://localhost:8080/",
     "height": 487
    },
    "id": "YmUdchfmxsd7",
    "outputId": "13503de3-896e-4117-aefa-144340b911e7"
   },
   "execution_count": 14,
   "outputs": [
    {
     "output_type": "display_data",
     "data": {
      "text/plain": [
       "<Figure size 800x500 with 1 Axes>"
      ],
      "image/png": "[encoded data removed]"
     },
     "metadata": {}
    }
   ]
  },
  {
   "cell_type": "markdown",
   "source": [
    "## ✅ Summary & Takeaways\n",
    "\n",
    "This project demonstrates how I designed and trained a **Vision Transformer (ViT)** from scratch for CIFAR-10 image classification, achieving a test accuracy of over 90% after 250 epochs.\n",
    "\n",
    "**Techniques used:**\n",
    "- Custom Vision Transformer architecture with multi-head self-attention\n",
    "- Data augmentation and normalization for better generalization\n",
    "- AdamW optimizer with weight decay\n",
    "- Linear warmup followed by Cosine Annealing learning rate scheduling\n",
    "\n",
    "The model shows that transformer-based architectures can perform competitively on small-scale image classification tasks when trained with proper optimization strategies.\n",
    "Further improvements could include stronger regularization, model scaling, or pretraining on larger datasets before fine-tuning on CIFAR-10.\n"
   ],
   "metadata": {
    "id": "wr98WIiY474D"
   }
  }
 ]
}
